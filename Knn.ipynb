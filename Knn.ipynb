{
  "nbformat": 4,
  "nbformat_minor": 0,
  "metadata": {
    "colab": {
      "provenance": []
    },
    "kernelspec": {
      "name": "python3",
      "display_name": "Python 3"
    },
    "language_info": {
      "name": "python"
    }
  },
  "cells": [
    {
      "cell_type": "markdown",
      "metadata": {
        "id": "zh4M2gIFYem5"
      },
      "source": [
        "** K-Nearest Neighbors **\n",
        "\n"
      ]
    },
    {
      "cell_type": "code",
      "metadata": {
        "id": "uIG7qOYUYcvf"
      },
      "source": [
        "#Importing the required modules\n",
        "import numpy as np\n",
        "from scipy.stats import mode"
      ],
      "execution_count": 1,
      "outputs": []
    },
    {
      "cell_type": "markdown",
      "source": [
        "\n",
        "**Q 1**. Calculate euclidean distance between the data points. -1 mark"
      ],
      "metadata": {
        "id": "8qRfU6SmA5k-"
      }
    },
    {
      "cell_type": "code",
      "metadata": {
        "id": "2RTcVVrZhp7B"
      },
      "source": [
        "#Euclidean Distance\n",
        "def eucledian(p1,p2):\n",
        "    dist = np.sqrt(np.sum((p1-p2)**2))\n",
        "    return dist"
      ],
      "execution_count": 2,
      "outputs": []
    },
    {
      "cell_type": "markdown",
      "source": [
        "**Q 2**. Store the distance in an array and sort it according to the ascending order of their distances (preserving the index i.e. can use NumPy argsort method). 1 mark\n"
      ],
      "metadata": {
        "id": "Pd3oJv3rAf6F"
      }
    },
    {
      "cell_type": "code",
      "source": [
        "def predict(x_train, y , x_input, k):\n",
        "    op_labels = []\n",
        "     \n",
        "    #Loop through the Datapoints to be classified\n",
        "    for item in x_input: \n",
        "         \n",
        "        #Array to store distances\n",
        "        point_dist = []\n",
        "         \n",
        "        #Loop through each training Data\n",
        "        for j in range(len(x_train)): \n",
        "            distances = eucledian(np.array(x_train[j,:]) , item) \n",
        "            #Calculating the distance\n",
        "            point_dist.append(distances) \n",
        "        point_dist = np.array(point_dist) \n",
        "         \n",
        "        #Sorting the array while preserving the index\n",
        "        #Keeping the first K datapoints\n",
        "        dist = np.argsort(point_dist)[:k]"
      ],
      "metadata": {
        "id": "LT7TDdk9XjSC"
      },
      "execution_count": 12,
      "outputs": []
    },
    {
      "cell_type": "markdown",
      "source": [
        "\n",
        "**Q 3**. Select the first K elements in the sorted list. 1 mark\n"
      ],
      "metadata": {
        "id": "4j38N2JAAtUG"
      }
    },
    {
      "cell_type": "code",
      "source": [],
      "metadata": {
        "id": "j0xKTTYvYhnH"
      },
      "execution_count": null,
      "outputs": []
    },
    {
      "cell_type": "markdown",
      "source": [
        "\n",
        "**Q 4**. Perform the majority Voting and the class with the maximum number of occurrences will be assigned as the new class for the data point to be classified. - 2 marks"
      ],
      "metadata": {
        "id": "k_jYmGsWAvYH"
      }
    },
    {
      "cell_type": "code",
      "metadata": {
        "id": "0_PgrGsnhv_I"
      },
      "source": [
        "#Function to calculate KNN\n",
        "def predict(x_train, y , x_input, k):\n",
        "    op_labels = []\n",
        "     \n",
        "    #Loop through the Datapoints to be classified\n",
        "    for item in x_input: \n",
        "         \n",
        "        #Array to store distances\n",
        "        point_dist = []\n",
        "         \n",
        "        #Loop through each training Data\n",
        "        for j in range(len(x_train)): \n",
        "            distances = eucledian(np.array(x_train[j,:]) , item) \n",
        "            #Calculating the distance\n",
        "            point_dist.append(distances) \n",
        "        point_dist = np.array(point_dist) \n",
        "         \n",
        "        #Sorting the array while preserving the index\n",
        "        #Keeping the first K datapoints\n",
        "        dist =  np.argsort(point_dist)[:k] \n",
        "         \n",
        "        #Labels of the K datapoints from above\n",
        "        labels = y[dist]\n",
        "         \n",
        "        #Majority voting\n",
        "        lab = mode(labels) \n",
        "        lab = lab.mode[0]\n",
        "        \n",
        "        op_labels.append(lab)\n",
        " \n",
        "    return op_labels\n",
        "\n",
        "\n",
        "\n"
      ],
      "execution_count": 5,
      "outputs": []
    },
    {
      "cell_type": "markdown",
      "source": [
        "**Q 5**. Predict for K=7 and calculate the accuracy  - 1 mark"
      ],
      "metadata": {
        "id": "r58r4iLQGupV"
      }
    },
    {
      "cell_type": "code",
      "metadata": {
        "colab": {
          "base_uri": "https://localhost:8080/"
        },
        "id": "txCWAj9eVCWd",
        "outputId": "36dd90e0-21c7-40b6-db81-acf392afc4db"
      },
      "source": [
        "#Importing the required modules\n",
        "#Importing required modules\n",
        "from sklearn.metrics import accuracy_score\n",
        "from sklearn.datasets import load_iris\n",
        "from numpy.random import randint\n",
        " \n",
        "#Loading the Data\n",
        "iris= load_iris()\n",
        " \n",
        "# Store features matrix in X\n",
        "X= iris.data\n",
        "#Store target vector in \n",
        "y= iris.target\n",
        " \n",
        " \n",
        "#Creating the training Data\n",
        "train_idx = randint(0,150,100)\n",
        "X_train = X[train_idx]\n",
        "y_train = y[train_idx]\n",
        " \n",
        "#Creating the testing Data\n",
        "test_idx = randint(0,150,50) #taking 50 random samples\n",
        "X_test = X[test_idx]\n",
        "y_test = y[test_idx]\n",
        " \n",
        "#predict for the test samples for K=7 \n",
        "y_pred = predict(X_train,y_train,X_test , 7) \n",
        "#Calculate the accuracy score\n",
        "accuracy_score(y_test, y_pred)"
      ],
      "execution_count": 6,
      "outputs": [
        {
          "output_type": "execute_result",
          "data": {
            "text/plain": [
              "0.94"
            ]
          },
          "metadata": {},
          "execution_count": 6
        }
      ]
    },
    {
      "cell_type": "markdown",
      "source": [
        "**Q 6**. "
      ],
      "metadata": {
        "id": "y8-yTADkDttu"
      }
    },
    {
      "cell_type": "code",
      "source": [
        "Pc1 = np.sum(y_train == 0)/len(y_train)\n",
        "Pc2 = np.sum(y_train == 1)/len(y_train)\n",
        "Pc3 = np.sum(y_train == 2)/len(y_train)\n",
        "print(Pc1,Pc2,Pc3)"
      ],
      "metadata": {
        "colab": {
          "base_uri": "https://localhost:8080/"
        },
        "id": "GFh1OKx1ZOeX",
        "outputId": "1f6b2bdb-b863-4dae-830e-8b43eda74f71"
      },
      "execution_count": 15,
      "outputs": [
        {
          "output_type": "stream",
          "name": "stdout",
          "text": [
            "0.37 0.37 0.26\n"
          ]
        }
      ]
    },
    {
      "cell_type": "code",
      "source": [
        "#2 question\n",
        "from collections import Counter\n",
        "\n",
        "# Calculate the class probabilities for the training data\n",
        "class_counts = Counter(y_train)\n",
        "total_count = sum(class_counts.values())\n",
        "class_probs = {label: count / total_count for label, count in class_counts.items()}\n",
        "\n",
        "print(class_probs)"
      ],
      "metadata": {
        "colab": {
          "base_uri": "https://localhost:8080/"
        },
        "id": "b494Alcpcp2K",
        "outputId": "a9351659-634a-41b8-e354-0d6fb767fddb"
      },
      "execution_count": 16,
      "outputs": [
        {
          "output_type": "stream",
          "name": "stdout",
          "text": [
            "{2: 0.26, 1: 0.37, 0: 0.37}\n"
          ]
        }
      ]
    },
    {
      "cell_type": "markdown",
      "source": [
        "**Q 7**. "
      ],
      "metadata": {
        "id": "tmP7jh2qEtI0"
      }
    },
    {
      "cell_type": "code",
      "source": [
        "#3rd quation\n",
        "import pandas as pd\n",
        "from sklearn.datasets import load_iris\n",
        "\n",
        "iris = load_iris()\n",
        "iris_df = pd.DataFrame(iris.data, columns=iris.feature_names)\n",
        "iris_df['target'] = iris.target\n",
        "iris_cat_df = pd.DataFrame()\n",
        "iris_cat_df['Petal width'] = pd.cut(iris_df['petal width (cm)'], bins=[0, 1, 2, float('inf')], labels=['L', 'M', 'H'])\n",
        "iris_cat_df['Petal length'] = pd.cut(iris_df['petal length (cm)'], bins=[0, 3, 5, float('inf')], labels=['L', 'M', 'H'])\n",
        "print(iris_cat_df.head())"
      ],
      "metadata": {
        "id": "LFGEo1d2FcCj",
        "colab": {
          "base_uri": "https://localhost:8080/"
        },
        "outputId": "0e02b05f-1367-42ff-f8af-83d8a9afafe5"
      },
      "execution_count": 25,
      "outputs": [
        {
          "output_type": "stream",
          "name": "stdout",
          "text": [
            "  Petal width Petal length\n",
            "0           L            L\n",
            "1           L            L\n",
            "2           L            L\n",
            "3           L            L\n",
            "4           L            L\n"
          ]
        }
      ]
    },
    {
      "cell_type": "code",
      "source": [
        "df = pd.DataFrame(iris.data,columns=iris.feature_names)\n",
        "df.head()"
      ],
      "metadata": {
        "colab": {
          "base_uri": "https://localhost:8080/",
          "height": 206
        },
        "id": "66CzjaNMgh26",
        "outputId": "6b916e87-a41f-45fa-9d2b-66af5108341d"
      },
      "execution_count": 26,
      "outputs": [
        {
          "output_type": "execute_result",
          "data": {
            "text/plain": [
              "   sepal length (cm)  sepal width (cm)  petal length (cm)  petal width (cm)\n",
              "0                5.1               3.5                1.4               0.2\n",
              "1                4.9               3.0                1.4               0.2\n",
              "2                4.7               3.2                1.3               0.2\n",
              "3                4.6               3.1                1.5               0.2\n",
              "4                5.0               3.6                1.4               0.2"
            ],
            "text/html": [
              "\n",
              "  <div id=\"df-d3d998b8-29fd-4496-b9e4-6f3d3cea6d45\">\n",
              "    <div class=\"colab-df-container\">\n",
              "      <div>\n",
              "<style scoped>\n",
              "    .dataframe tbody tr th:only-of-type {\n",
              "        vertical-align: middle;\n",
              "    }\n",
              "\n",
              "    .dataframe tbody tr th {\n",
              "        vertical-align: top;\n",
              "    }\n",
              "\n",
              "    .dataframe thead th {\n",
              "        text-align: right;\n",
              "    }\n",
              "</style>\n",
              "<table border=\"1\" class=\"dataframe\">\n",
              "  <thead>\n",
              "    <tr style=\"text-align: right;\">\n",
              "      <th></th>\n",
              "      <th>sepal length (cm)</th>\n",
              "      <th>sepal width (cm)</th>\n",
              "      <th>petal length (cm)</th>\n",
              "      <th>petal width (cm)</th>\n",
              "    </tr>\n",
              "  </thead>\n",
              "  <tbody>\n",
              "    <tr>\n",
              "      <th>0</th>\n",
              "      <td>5.1</td>\n",
              "      <td>3.5</td>\n",
              "      <td>1.4</td>\n",
              "      <td>0.2</td>\n",
              "    </tr>\n",
              "    <tr>\n",
              "      <th>1</th>\n",
              "      <td>4.9</td>\n",
              "      <td>3.0</td>\n",
              "      <td>1.4</td>\n",
              "      <td>0.2</td>\n",
              "    </tr>\n",
              "    <tr>\n",
              "      <th>2</th>\n",
              "      <td>4.7</td>\n",
              "      <td>3.2</td>\n",
              "      <td>1.3</td>\n",
              "      <td>0.2</td>\n",
              "    </tr>\n",
              "    <tr>\n",
              "      <th>3</th>\n",
              "      <td>4.6</td>\n",
              "      <td>3.1</td>\n",
              "      <td>1.5</td>\n",
              "      <td>0.2</td>\n",
              "    </tr>\n",
              "    <tr>\n",
              "      <th>4</th>\n",
              "      <td>5.0</td>\n",
              "      <td>3.6</td>\n",
              "      <td>1.4</td>\n",
              "      <td>0.2</td>\n",
              "    </tr>\n",
              "  </tbody>\n",
              "</table>\n",
              "</div>\n",
              "      <button class=\"colab-df-convert\" onclick=\"convertToInteractive('df-d3d998b8-29fd-4496-b9e4-6f3d3cea6d45')\"\n",
              "              title=\"Convert this dataframe to an interactive table.\"\n",
              "              style=\"display:none;\">\n",
              "        \n",
              "  <svg xmlns=\"http://www.w3.org/2000/svg\" height=\"24px\"viewBox=\"0 0 24 24\"\n",
              "       width=\"24px\">\n",
              "    <path d=\"M0 0h24v24H0V0z\" fill=\"none\"/>\n",
              "    <path d=\"M18.56 5.44l.94 2.06.94-2.06 2.06-.94-2.06-.94-.94-2.06-.94 2.06-2.06.94zm-11 1L8.5 8.5l.94-2.06 2.06-.94-2.06-.94L8.5 2.5l-.94 2.06-2.06.94zm10 10l.94 2.06.94-2.06 2.06-.94-2.06-.94-.94-2.06-.94 2.06-2.06.94z\"/><path d=\"M17.41 7.96l-1.37-1.37c-.4-.4-.92-.59-1.43-.59-.52 0-1.04.2-1.43.59L10.3 9.45l-7.72 7.72c-.78.78-.78 2.05 0 2.83L4 21.41c.39.39.9.59 1.41.59.51 0 1.02-.2 1.41-.59l7.78-7.78 2.81-2.81c.8-.78.8-2.07 0-2.86zM5.41 20L4 18.59l7.72-7.72 1.47 1.35L5.41 20z\"/>\n",
              "  </svg>\n",
              "      </button>\n",
              "      \n",
              "  <style>\n",
              "    .colab-df-container {\n",
              "      display:flex;\n",
              "      flex-wrap:wrap;\n",
              "      gap: 12px;\n",
              "    }\n",
              "\n",
              "    .colab-df-convert {\n",
              "      background-color: #E8F0FE;\n",
              "      border: none;\n",
              "      border-radius: 50%;\n",
              "      cursor: pointer;\n",
              "      display: none;\n",
              "      fill: #1967D2;\n",
              "      height: 32px;\n",
              "      padding: 0 0 0 0;\n",
              "      width: 32px;\n",
              "    }\n",
              "\n",
              "    .colab-df-convert:hover {\n",
              "      background-color: #E2EBFA;\n",
              "      box-shadow: 0px 1px 2px rgba(60, 64, 67, 0.3), 0px 1px 3px 1px rgba(60, 64, 67, 0.15);\n",
              "      fill: #174EA6;\n",
              "    }\n",
              "\n",
              "    [theme=dark] .colab-df-convert {\n",
              "      background-color: #3B4455;\n",
              "      fill: #D2E3FC;\n",
              "    }\n",
              "\n",
              "    [theme=dark] .colab-df-convert:hover {\n",
              "      background-color: #434B5C;\n",
              "      box-shadow: 0px 1px 3px 1px rgba(0, 0, 0, 0.15);\n",
              "      filter: drop-shadow(0px 1px 2px rgba(0, 0, 0, 0.3));\n",
              "      fill: #FFFFFF;\n",
              "    }\n",
              "  </style>\n",
              "\n",
              "      <script>\n",
              "        const buttonEl =\n",
              "          document.querySelector('#df-d3d998b8-29fd-4496-b9e4-6f3d3cea6d45 button.colab-df-convert');\n",
              "        buttonEl.style.display =\n",
              "          google.colab.kernel.accessAllowed ? 'block' : 'none';\n",
              "\n",
              "        async function convertToInteractive(key) {\n",
              "          const element = document.querySelector('#df-d3d998b8-29fd-4496-b9e4-6f3d3cea6d45');\n",
              "          const dataTable =\n",
              "            await google.colab.kernel.invokeFunction('convertToInteractive',\n",
              "                                                     [key], {});\n",
              "          if (!dataTable) return;\n",
              "\n",
              "          const docLinkHtml = 'Like what you see? Visit the ' +\n",
              "            '<a target=\"_blank\" href=https://colab.research.google.com/notebooks/data_table.ipynb>data table notebook</a>'\n",
              "            + ' to learn more about interactive tables.';\n",
              "          element.innerHTML = '';\n",
              "          dataTable['output_type'] = 'display_data';\n",
              "          await google.colab.output.renderOutput(dataTable, element);\n",
              "          const docLink = document.createElement('div');\n",
              "          docLink.innerHTML = docLinkHtml;\n",
              "          element.appendChild(docLink);\n",
              "        }\n",
              "      </script>\n",
              "    </div>\n",
              "  </div>\n",
              "  "
            ]
          },
          "metadata": {},
          "execution_count": 26
        }
      ]
    },
    {
      "cell_type": "markdown",
      "source": [
        "**Q 8**. "
      ],
      "metadata": {
        "id": "jB_4P_0GFi0D"
      }
    },
    {
      "cell_type": "code",
      "source": [
        "#4th quation\n",
        "p_width = iris_cat_df.groupby('Petal width').size() / len(iris_cat_df)\n",
        "print(p_width)\n",
        "p_length = iris_cat_df.groupby('Petal length').size() / len(iris_cat_df)\n",
        "print(p_length)"
      ],
      "metadata": {
        "id": "Msw-YihaGPCp",
        "colab": {
          "base_uri": "https://localhost:8080/"
        },
        "outputId": "11a1b2ce-bd0a-470e-9ffa-1328bb6de268"
      },
      "execution_count": 22,
      "outputs": [
        {
          "output_type": "stream",
          "name": "stdout",
          "text": [
            "Petal width\n",
            "L    0.380000\n",
            "M    0.466667\n",
            "H    0.153333\n",
            "dtype: float64\n",
            "Petal length\n",
            "L    0.34\n",
            "M    0.38\n",
            "H    0.28\n",
            "dtype: float64\n"
          ]
        }
      ]
    },
    {
      "cell_type": "code",
      "source": [
        "#5th question\n",
        "class_counts = iris_df['target'].value_counts(normalize=True)\n",
        "observation = {'Petal width': 'M', 'Petal length': 'H'}\n",
        "probs = {}\n",
        "for label, prob in class_counts.items():\n",
        "    probs[label] = prob\n",
        "    for variable, value in observation.items():\n",
        "        probs[label] *= iris_cat_df[iris_cat_df[variable] == value][variable].size / iris_cat_df[variable].size\n",
        "class1 = max(probs, key=probs.get)\n",
        "print(f'Probability: {probs[class1]:.2f}')\n",
        "print(f'class: {class1}')"
      ],
      "metadata": {
        "colab": {
          "base_uri": "https://localhost:8080/"
        },
        "id": "vDjhhIDld5zf",
        "outputId": "2527ec37-7d22-4016-f6f9-70958fe83e10"
      },
      "execution_count": 21,
      "outputs": [
        {
          "output_type": "stream",
          "name": "stdout",
          "text": [
            "Probability: 0.04\n",
            "class: 0\n"
          ]
        }
      ]
    },
    {
      "cell_type": "code",
      "source": [],
      "metadata": {
        "id": "AtN9_0jkGlLp"
      },
      "execution_count": null,
      "outputs": []
    }
  ]
}